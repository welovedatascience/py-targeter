{
 "cells": [
  {
   "cell_type": "code",
   "execution_count": null,
   "metadata": {},
   "outputs": [],
   "source": [
    "rf0=RandomForestRegressor(min_samples_split=700, min_samples_leaf=2000, random_state=seed, max_depth=6)\n",
    "rf0 = rf0.fit(X0_train,Y0_train)"
   ]
  },
  {
   "cell_type": "code",
   "execution_count": null,
   "metadata": {},
   "outputs": [],
   "source": [
    "feature_importance_rf0 = pd.DataFrame({\"WoE_RF\" : rf0.feature_importances_}, index=df[self.selection].columns)\n",
    "feature_importance_rf0"
   ]
  }
 ],
 "metadata": {
  "language_info": {
   "name": "python"
  },
  "orig_nbformat": 4
 },
 "nbformat": 4,
 "nbformat_minor": 2
}
