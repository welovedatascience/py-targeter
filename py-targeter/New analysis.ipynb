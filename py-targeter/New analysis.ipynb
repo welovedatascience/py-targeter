{
 "cells": [
  {
   "cell_type": "code",
   "execution_count": 1,
   "metadata": {},
   "outputs": [
    {
     "name": "stdout",
     "output_type": "stream",
     "text": [
      "(CVXPY) Aug 18 02:38:31 PM: Encountered unexpected exception importing solver GLOP:\n",
      "RuntimeError('Unrecognized new version of ortools (9.6.2534). Expected < 9.5.0.Please open a feature request on cvxpy to enable support for this version.')\n",
      "(CVXPY) Aug 18 02:38:31 PM: Encountered unexpected exception importing solver PDLP:\n",
      "RuntimeError('Unrecognized new version of ortools (9.6.2534). Expected < 9.5.0.Please open a feature request on cvxpy to enable support for this version.')\n"
     ]
    }
   ],
   "source": [
    "#import optbinning\n",
    "import pandas as pd\n",
    "from optbinning import BinningProcess\n",
    "import inspect\n",
    "import numpy as np\n",
    "from tempfile import mkdtemp\n",
    "import os\n",
    "import shutil\n",
    "from pickle import dump\n",
    "import subprocess\n",
    "from matplotlib import pyplot\n",
    "from adjustText import adjust_text\n",
    "import papermill\n",
    "import targeter\n",
    "from IPython.display import display, HTML\n",
    "from itables import init_notebook_mode, show\n",
    "import os\n",
    "import papermill\n",
    "from sklearn import decomposition, datasets\n",
    "from sklearn import tree\n",
    "from sklearn.pipeline import Pipeline\n",
    "from sklearn.model_selection import GridSearchCV, cross_val_score\n",
    "from sklearn.preprocessing import StandardScaler\n",
    "from sklearn.decomposition import PCA\n",
    "from sklearn import tree\n",
    "from sklearn.model_selection import train_test_split\n",
    "from sklearn.metrics import r2_score\n",
    "from sklearn.linear_model import Ridge\n",
    "from sklearn.linear_model import Lasso\n",
    "from sklearn.linear_model import RidgeCV\n",
    "from matplotlib import pyplot as plt\n",
    "from sklearn.ensemble import RandomForestRegressor\n",
    "import graphviz\n",
    "import pydotplus\n",
    "from sklearn.ensemble import GradientBoostingRegressor\n",
    "from sklearn.linear_model import LassoCV\n",
    "from sklearn.metrics import d2_pinball_score\n",
    "from sklearn.feature_selection import SequentialFeatureSelector"
   ]
  },
  {
   "cell_type": "code",
   "execution_count": 2,
   "metadata": {},
   "outputs": [
    {
     "name": "stderr",
     "output_type": "stream",
     "text": [
      "C:\\Users\\natha\\AppData\\Local\\Temp\\ipykernel_26808\\2173876567.py:4: DtypeWarning: Columns (256) have mixed types. Specify dtype option on import or set low_memory=False.\n",
      "  df2 = pd.read_csv(r\"C:\\Users\\natha\\OneDrive\\Documents\\WeLoveDataScience\\df-wlds-equete2014.csv\")\n"
     ]
    }
   ],
   "source": [
    "import pandas as pd \n",
    "from targeter import Targeter\n",
    "#dtypes = {col: 'float32' for col in df2.columns if df2[col].dtype == 'float64', str: 'str'}\n",
    "df2 = pd.read_csv(r\"C:\\Users\\natha\\OneDrive\\Documents\\WeLoveDataScience\\df-wlds-equete2014.csv\")\n",
    "target = 'O_523'\n",
    "variable = 'AGE'\n",
    "df2 = df2[df2[target].notnull()]"
   ]
  },
  {
   "cell_type": "code",
   "execution_count": 4,
   "metadata": {},
   "outputs": [
    {
     "name": "stdout",
     "output_type": "stream",
     "text": [
      "Some var from meta are not in the dataset\n"
     ]
    },
    {
     "name": "stderr",
     "output_type": "stream",
     "text": [
      "c:\\Users\\natha\\OneDrive\\Documents\\WeLoveDataScience\\py-targeter\\.venv\\Lib\\site-packages\\optbinning\\binning\\continuous_binning.py:912: RuntimeWarning: invalid value encountered in cast\n",
      "  n_zeros = np.empty(n_bins).astype(np.int64)\n"
     ]
    }
   ],
   "source": [
    "df = df[df[target].notnull()]\n",
    "df = df.drop(df[df['R_Client_Taux_de_plainte'] == np.inf].index)\n",
    "df = df.drop(df[df['R_Client_pct_enquete_repondu'] == np.inf].index)\n",
    "meta = pd.read_excel(r\"C:\\Users\\natha\\OneDrive\\Documents\\WeLoveDataScience\\meta data.xlsx\", sheet_name=\"Feuil1\")\n",
    "\n",
    "#df[\"Centre_tri\"] = df['T_CodePostal'].apply(attribuer_ville)\n",
    "#df[\"Province\"]=df['T_CodePostal'].apply(attribuer_province)\n",
    "\n",
    "def target_to_class(target):\n",
    "    if target < 4:\n",
    "        return \"[0 ; 4[\"\n",
    "    elif target >=4 and target <8:\n",
    "        return \"[4 ; 8[\"\n",
    "    elif target >=8 and target <9:\n",
    "        return \"[8 ; 9[\"\n",
    "    elif target >= 9:\n",
    "        return \"[9 ; 10]\"\n",
    "\n",
    "df['O_523_to_class'] = df['O_523'].apply(target_to_class)\n",
    "\n",
    "#Target O_523\n",
    "#tar = Targeter(target=target,data=df,categorical_variables=list(df.select_dtypes(include=[\"object\"]).columns), exclude_vars= ['N_ConfortGap','N_Confort','N_Cote_actuelle','O_415','O_679','O_414','O_362','O_524','O_363','O_374', 'B_521', 'N_Cote_Actuelle','O_674','O_365','O 370','O_366','O_373', 'O_372','O_367', 'O_369'])\n",
    "#target O_524-\n",
    "\n",
    "#df['Langue_Identique'] = ((df['C_LangueClient'] == 'De') & (df['B_Gerant_Langue_Allemand'] == 1)) | \\\n",
    "                         #((df['C_LangueClient'] == 'En') & (df['B_Gerant_Langue_Anglais'] == 1)) | \\\n",
    "                         #((df['C_LangueClient'] == 'Fr') & (df['B_Gerant_Langue_Francais'] == 1)) | \\\n",
    "                         #((df['C_LangueClient'] == 'Nl') & (df['B_Gerant_Langue_Neerlandais'] == 1))\n",
    "\n",
    "df = df[df[\"O_524\"].notnull()]\n",
    "df = df[df[\"N_SATISFACTION_CLIENT_CUR\"].notnull()]\n",
    "df = df[df['O_523'].notnull()]\n",
    "\n",
    "tar = Targeter(target='O_523',data=df,categorical_variables=list(df.select_dtypes(include=[\"object\"]).columns),var_col=\"Nom colonne\", label_col=\"Description\",metadata=meta, exclude_vars= list(set(['C_CommunauteClient','B_521','D_debutsejour_month','D_DateInsertion_year','Centre_tri','D_DateReservation_month','D_DateInsertion_month','N_Confort','B_Gerant_Langue_Allemand','B_Gerant_Langue_Anglais','B_Gerant_Langue_Francais','B_Gerant_Langue_Neerlandais','O_523_to_class','I_IDLocation','Unnamed: 0','I_IDReservation','GeoPosX','N_Delais_Enquete','R_Maison_pct_enquete_repondu', 'N_Maison_Nombre_plainteClient', 'N_Maison_Enquete_repondu','N_Maison_Nombre_sejour','N_AgeMin', 'N_BookingWindow', 'D_debutsejour_year', 'D_DateReservation_year'] + list(meta[meta[\"Exclude \"]==\"x\"][\"Nom colonne\"].values))))\n",
    "#tar = Targeter(target=target,data=df,categorical_variables=list(df.select_dtypes(include=[\"object\"]).columns),var_col=\"Nom colonne\", label_col=\"newname\",metadata=meta, exclude_vars= ['O_374','N_Cote_actuelle','O_366','O_373','N_Confort','O_368','O_414','O_363','O_679','O_362','O_523','O_415','O_371','N_Cote_Actuelle','O_370','O_372','N_ConfortGap','O_367','O_524','O_365','O_369','B_532','B_521','B_HC_25','O_388','B_403','N_HC_53','O_393'])"
   ]
  },
  {
   "cell_type": "code",
   "execution_count": 5,
   "metadata": {},
   "outputs": [],
   "source": [
    "seed = 123"
   ]
  },
  {
   "cell_type": "code",
   "execution_count": 6,
   "metadata": {},
   "outputs": [
    {
     "data": {
      "text/plain": [
       "51"
      ]
     },
     "execution_count": 6,
     "metadata": {},
     "output_type": "execute_result"
    }
   ],
   "source": [
    "filter_count_min=500\n",
    "filter_n=30\n",
    "self = tar\n",
    "a1 = self.filter(n=filter_n, metric=\"quality_score\").selection\n",
    "if self.target_type == \"continuous\":\n",
    "        a2 = self.filter(n=filter_n, metric=\"Max Mean\", count_min=filter_count_min).selection\n",
    "        self.selection = list(set(a1 + a2))\n",
    "\n",
    "len(self.selection)"
   ]
  },
  {
   "cell_type": "code",
   "execution_count": 7,
   "metadata": {},
   "outputs": [],
   "source": [
    "Y = df[df[target].notnull()]['O_523'].values\n",
    "X1_train, X1_test, Y1_train, Y1_test = train_test_split(df,Y, test_size=0.2, shuffle=True,random_state=seed)"
   ]
  },
  {
   "cell_type": "code",
   "execution_count": 8,
   "metadata": {},
   "outputs": [],
   "source": [
    "df_new = pd.DataFrame(X1_train)\n",
    "df_new['O_523'] = Y1_train"
   ]
  },
  {
   "cell_type": "code",
   "execution_count": 9,
   "metadata": {},
   "outputs": [
    {
     "name": "stdout",
     "output_type": "stream",
     "text": [
      "Some var from meta are not in the dataset\n"
     ]
    },
    {
     "name": "stderr",
     "output_type": "stream",
     "text": [
      "c:\\Users\\natha\\OneDrive\\Documents\\WeLoveDataScience\\py-targeter\\.venv\\Lib\\site-packages\\optbinning\\binning\\continuous_binning.py:912: RuntimeWarning: invalid value encountered in cast\n",
      "  n_zeros = np.empty(n_bins).astype(np.int64)\n"
     ]
    }
   ],
   "source": [
    "tar_new = Targeter(target='O_523',data=df_new,categorical_variables=list(df.select_dtypes(include=[\"object\"]).columns),var_col=\"Nom colonne\", label_col=\"Description\",metadata=meta, exclude_vars= list(set(['C_CommunauteClient','B_521','D_debutsejour_month','D_DateInsertion_year','Centre_tri','D_DateReservation_month','D_DateInsertion_month','N_Confort','B_Gerant_Langue_Allemand','B_Gerant_Langue_Anglais','B_Gerant_Langue_Francais','B_Gerant_Langue_Neerlandais','O_523_to_class','I_IDLocation','Unnamed: 0','I_IDReservation','GeoPosX','N_Delais_Enquete','R_Maison_pct_enquete_repondu', 'N_Maison_Nombre_plainteClient', 'N_Maison_Enquete_repondu','N_Maison_Nombre_sejour','N_AgeMin', 'N_BookingWindow', 'D_debutsejour_year', 'D_DateReservation_year'] + list(meta[meta[\"Exclude \"]==\"x\"][\"Nom colonne\"].values))))"
   ]
  },
  {
   "cell_type": "code",
   "execution_count": 10,
   "metadata": {},
   "outputs": [
    {
     "data": {
      "text/plain": [
       "'.\\\\report.html'"
      ]
     },
     "execution_count": 10,
     "metadata": {},
     "output_type": "execute_result"
    }
   ],
   "source": [
    "tar_new.report()"
   ]
  },
  {
   "cell_type": "code",
   "execution_count": 11,
   "metadata": {},
   "outputs": [],
   "source": [
    "selection_finale = tar_new.selection"
   ]
  },
  {
   "cell_type": "code",
   "execution_count": 15,
   "metadata": {},
   "outputs": [],
   "source": [
    "one_hot_df = pd.get_dummies(df[selection_finale],drop_first=True)\n",
    "one_hot_df = one_hot_df.fillna(one_hot_df.mean())"
   ]
  },
  {
   "cell_type": "code",
   "execution_count": 16,
   "metadata": {},
   "outputs": [],
   "source": [
    "Y = df[df[target].notnull()]['O_523'].values\n",
    "X2_train, X2_test, Y2_train, Y2_test = train_test_split(one_hot_df,Y, test_size=0.2, shuffle=True,random_state=seed)"
   ]
  },
  {
   "cell_type": "code",
   "execution_count": 18,
   "metadata": {},
   "outputs": [],
   "source": [
    "dt = tree.DecisionTreeRegressor(max_depth=6, min_samples_leaf=700, min_samples_split=2000,criterion=\"friedman_mse\",random_state=seed)\n",
    "dt = dt.fit(X2_train,Y2_train)"
   ]
  },
  {
   "cell_type": "code",
   "execution_count": 21,
   "metadata": {},
   "outputs": [],
   "source": [
    "rf = RandomForestRegressor(max_depth=6, min_samples_leaf=700, min_samples_split=2000,criterion=\"friedman_mse\",random_state=seed,n_estimators=500)\n",
    "rf = rf.fit(X2_train,Y2_train)"
   ]
  },
  {
   "cell_type": "code",
   "execution_count": 23,
   "metadata": {},
   "outputs": [],
   "source": [
    "Y2_pred = rf.predict(X2_test)"
   ]
  },
  {
   "cell_type": "code",
   "execution_count": 24,
   "metadata": {},
   "outputs": [
    {
     "data": {
      "text/plain": [
       "0.23158126371434018"
      ]
     },
     "execution_count": 24,
     "metadata": {},
     "output_type": "execute_result"
    }
   ],
   "source": [
    "r2_score(Y2_test, Y2_pred)"
   ]
  },
  {
   "cell_type": "code",
   "execution_count": 27,
   "metadata": {},
   "outputs": [
    {
     "ename": "TypeError",
     "evalue": "X must be a pandas.DataFrame or numpy.ndarray.",
     "output_type": "error",
     "traceback": [
      "\u001b[1;31m---------------------------------------------------------------------------\u001b[0m",
      "\u001b[1;31mTypeError\u001b[0m                                 Traceback (most recent call last)",
      "Cell \u001b[1;32mIn[27], line 1\u001b[0m\n\u001b[1;32m----> 1\u001b[0m df_woe \u001b[39m=\u001b[39m \u001b[39mself\u001b[39;49m\u001b[39m.\u001b[39;49mprofiles\u001b[39m.\u001b[39;49mtransform(df)\n",
      "File \u001b[1;32mc:\\Users\\natha\\OneDrive\\Documents\\WeLoveDataScience\\py-targeter\\.venv\\Lib\\site-packages\\optbinning\\binning\\binning_process.py:831\u001b[0m, in \u001b[0;36mBinningProcess.transform\u001b[1;34m(self, X, metric, metric_special, metric_missing, show_digits, check_input)\u001b[0m\n\u001b[0;32m    788\u001b[0m \u001b[39m\u001b[39m\u001b[39m\"\"\"Transform given data to metric using bins from each fitted optimal\u001b[39;00m\n\u001b[0;32m    789\u001b[0m \u001b[39mbinning.\u001b[39;00m\n\u001b[0;32m    790\u001b[0m \n\u001b[1;32m   (...)\u001b[0m\n\u001b[0;32m    827\u001b[0m \u001b[39m    Transformed array.\u001b[39;00m\n\u001b[0;32m    828\u001b[0m \u001b[39m\"\"\"\u001b[39;00m\n\u001b[0;32m    829\u001b[0m \u001b[39mself\u001b[39m\u001b[39m.\u001b[39m_check_is_fitted()\n\u001b[1;32m--> 831\u001b[0m \u001b[39mreturn\u001b[39;00m \u001b[39mself\u001b[39;49m\u001b[39m.\u001b[39;49m_transform(X, metric, metric_special, metric_missing,\n\u001b[0;32m    832\u001b[0m                        show_digits, check_input)\n",
      "File \u001b[1;32mc:\\Users\\natha\\OneDrive\\Documents\\WeLoveDataScience\\py-targeter\\.venv\\Lib\\site-packages\\optbinning\\binning\\binning_process.py:1351\u001b[0m, in \u001b[0;36mBinningProcess._transform\u001b[1;34m(self, X, metric, metric_special, metric_missing, show_digits, check_input)\u001b[0m\n\u001b[0;32m   1346\u001b[0m \u001b[39mdef\u001b[39;00m \u001b[39m_transform\u001b[39m(\u001b[39mself\u001b[39m, X, metric, metric_special, metric_missing,\n\u001b[0;32m   1347\u001b[0m                show_digits, check_input):\n\u001b[0;32m   1348\u001b[0m \n\u001b[0;32m   1349\u001b[0m     \u001b[39m# Check X dtype\u001b[39;00m\n\u001b[0;32m   1350\u001b[0m     \u001b[39mif\u001b[39;00m \u001b[39mnot\u001b[39;00m \u001b[39misinstance\u001b[39m(X, (pd\u001b[39m.\u001b[39mDataFrame, np\u001b[39m.\u001b[39mndarray)):\n\u001b[1;32m-> 1351\u001b[0m         \u001b[39mraise\u001b[39;00m \u001b[39mTypeError\u001b[39;00m(\u001b[39m\"\u001b[39m\u001b[39mX must be a pandas.DataFrame or numpy.ndarray.\u001b[39m\u001b[39m\"\u001b[39m)\n\u001b[0;32m   1353\u001b[0m     n_samples, n_variables \u001b[39m=\u001b[39m X\u001b[39m.\u001b[39mshape\n\u001b[0;32m   1355\u001b[0m     mask \u001b[39m=\u001b[39m \u001b[39mself\u001b[39m\u001b[39m.\u001b[39mget_support()\n",
      "\u001b[1;31mTypeError\u001b[0m: X must be a pandas.DataFrame or numpy.ndarray."
     ]
    }
   ],
   "source": [
    "df_woe = self.profiles.transform(df)"
   ]
  },
  {
   "cell_type": "code",
   "execution_count": null,
   "metadata": {},
   "outputs": [],
   "source": [
    "Y = df_WOE[df[target].notnull()]['O_523'].values\n",
    "X2_train, X2_test, Y2_train, Y2_test = train_test_split(one_hot_df,Y, test_size=0.2, shuffle=True,random_state=seed)"
   ]
  }
 ],
 "metadata": {
  "kernelspec": {
   "display_name": ".venv",
   "language": "python",
   "name": "python3"
  },
  "language_info": {
   "codemirror_mode": {
    "name": "ipython",
    "version": 3
   },
   "file_extension": ".py",
   "mimetype": "text/x-python",
   "name": "python",
   "nbconvert_exporter": "python",
   "pygments_lexer": "ipython3",
   "version": "3.11.4"
  },
  "orig_nbformat": 4
 },
 "nbformat": 4,
 "nbformat_minor": 2
}
