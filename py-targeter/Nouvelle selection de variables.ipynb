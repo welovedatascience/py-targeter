{
 "cells": [
  {
   "cell_type": "code",
   "execution_count": 7,
   "metadata": {},
   "outputs": [
    {
     "name": "stdout",
     "output_type": "stream",
     "text": [
      "(CVXPY) Aug 02 03:45:00 PM: Encountered unexpected exception importing solver GLOP:\n",
      "RuntimeError('Unrecognized new version of ortools (9.6.2534). Expected < 9.5.0.Please open a feature request on cvxpy to enable support for this version.')\n",
      "(CVXPY) Aug 02 03:45:00 PM: Encountered unexpected exception importing solver PDLP:\n",
      "RuntimeError('Unrecognized new version of ortools (9.6.2534). Expected < 9.5.0.Please open a feature request on cvxpy to enable support for this version.')\n"
     ]
    }
   ],
   "source": [
    "#import optbinning\n",
    "import pandas as pd\n",
    "from optbinning import BinningProcess\n",
    "import inspect\n",
    "import numpy as np\n",
    "from tempfile import mkdtemp\n",
    "import os\n",
    "import shutil\n",
    "from pickle import dump\n",
    "import subprocess\n",
    "from matplotlib import pyplot\n",
    "from adjustText import adjust_text\n",
    "import papermill\n",
    "import targeter\n",
    "from IPython.display import display, HTML\n",
    "from itables import init_notebook_mode, show\n",
    "import os\n",
    "import papermill\n",
    "from sklearn import decomposition, datasets\n",
    "from sklearn import tree\n",
    "from sklearn.pipeline import Pipeline\n",
    "from sklearn.model_selection import GridSearchCV, cross_val_score\n",
    "from sklearn.preprocessing import StandardScaler\n",
    "from sklearn.decomposition import PCA\n",
    "from sklearn import tree\n",
    "from sklearn.model_selection import train_test_split\n",
    "from sklearn.metrics import r2_score\n",
    "from sklearn.linear_model import Ridge\n",
    "from sklearn.linear_model import Lasso\n",
    "from sklearn.linear_model import RidgeCV\n",
    "from matplotlib import pyplot as plt\n"
   ]
  },
  {
   "cell_type": "code",
   "execution_count": 8,
   "metadata": {},
   "outputs": [
    {
     "name": "stderr",
     "output_type": "stream",
     "text": [
      "C:\\Users\\natha\\AppData\\Local\\Temp\\ipykernel_36680\\2807488621.py:4: DtypeWarning: Columns (256) have mixed types. Specify dtype option on import or set low_memory=False.\n",
      "  df2 = pd.read_csv(r\"C:\\Users\\natha\\OneDrive\\Documents\\WeLoveDataScience\\df-wlds-equete2014.csv\")\n"
     ]
    }
   ],
   "source": [
    "import pandas as pd \n",
    "from targeter import Targeter\n",
    "#dtypes = {col: 'float32' for col in df2.columns if df2[col].dtype == 'float64', str: 'str'}\n",
    "df2 = pd.read_csv(r\"C:\\Users\\natha\\OneDrive\\Documents\\WeLoveDataScience\\df-wlds-equete2014.csv\")\n",
    "target = 'O_523'\n",
    "variable = 'AGE'\n",
    "df2 = df2[df2[target].notnull()]\n",
    "import pandas as pd \n",
    "df3 = pd.read_csv(\"C:/Users/natha/OneDrive/Documents/WeLoveDataScience/adult.csv\")\n",
    "dtypes = {col1: 'float32' for col1 in df2.columns if df2[col1].dtype == 'float64'}\n",
    "dtypes.update({col2: 'int32' for col2 in df2.columns if df2[col2].dtype == 'int64'})\n",
    "dtypes.update({col3 : 'object' for col3 in df2.columns if df2[col3].dtype == 'object'})\n",
    "\n",
    "df = pd.read_csv(r\"C:\\Users\\natha\\OneDrive\\Documents\\WeLoveDataScience\\df-wlds-equete2014.csv\", dtype = dtypes)\n",
    "target = 'O_523'\n",
    "variable = 'AGE'"
   ]
  },
  {
   "cell_type": "code",
   "execution_count": 9,
   "metadata": {},
   "outputs": [
    {
     "name": "stdout",
     "output_type": "stream",
     "text": [
      "Some var from meta are not in the dataset\n"
     ]
    },
    {
     "name": "stderr",
     "output_type": "stream",
     "text": [
      "c:\\Users\\natha\\OneDrive\\Documents\\WeLoveDataScience\\py-targeter\\.venv\\Lib\\site-packages\\optbinning\\binning\\continuous_binning.py:912: RuntimeWarning: invalid value encountered in cast\n",
      "  n_zeros = np.empty(n_bins).astype(np.int64)\n",
      "c:\\Users\\natha\\OneDrive\\Documents\\WeLoveDataScience\\py-targeter\\.venv\\Lib\\site-packages\\optbinning\\binning\\continuous_binning.py:912: RuntimeWarning: invalid value encountered in cast\n",
      "  n_zeros = np.empty(n_bins).astype(np.int64)\n",
      "c:\\Users\\natha\\OneDrive\\Documents\\WeLoveDataScience\\py-targeter\\.venv\\Lib\\site-packages\\optbinning\\binning\\continuous_binning.py:912: RuntimeWarning: invalid value encountered in cast\n",
      "  n_zeros = np.empty(n_bins).astype(np.int64)\n"
     ]
    }
   ],
   "source": [
    "df = df[df[target].notnull()]\n",
    "df = df.drop(df[df['R_Client_Taux_de_plainte'] == np.inf].index)\n",
    "df = df.drop(df[df['R_Client_pct_enquete_repondu'] == np.inf].index)\n",
    "meta = pd.read_excel(r\"C:\\Users\\natha\\OneDrive\\Documents\\WeLoveDataScience\\meta data.xlsx\", sheet_name=\"Feuil1\")\n",
    "\n",
    "#df[\"Centre_tri\"] = df['T_CodePostal'].apply(attribuer_ville)\n",
    "#df[\"Province\"]=df['T_CodePostal'].apply(attribuer_province)\n",
    "\n",
    "def target_to_class(target):\n",
    "    if target < 4:\n",
    "        return \"[0 ; 4[\"\n",
    "    elif target >=4 and target <8:\n",
    "        return \"[4 ; 8[\"\n",
    "    elif target >=8 and target <9:\n",
    "        return \"[8 ; 9[\"\n",
    "    elif target >= 9:\n",
    "        return \"[9 ; 10]\"\n",
    "\n",
    "df['O_523_to_class'] = df['O_523'].apply(target_to_class)\n",
    "\n",
    "#Target O_523\n",
    "#tar = Targeter(target=target,data=df,categorical_variables=list(df.select_dtypes(include=[\"object\"]).columns), exclude_vars= ['N_ConfortGap','N_Confort','N_Cote_actuelle','O_415','O_679','O_414','O_362','O_524','O_363','O_374', 'B_521', 'N_Cote_Actuelle','O_674','O_365','O 370','O_366','O_373', 'O_372','O_367', 'O_369'])\n",
    "#target O_524-\n",
    "\n",
    "#df['Langue_Identique'] = ((df['C_LangueClient'] == 'De') & (df['B_Gerant_Langue_Allemand'] == 1)) | \\\n",
    "                         #((df['C_LangueClient'] == 'En') & (df['B_Gerant_Langue_Anglais'] == 1)) | \\\n",
    "                         #((df['C_LangueClient'] == 'Fr') & (df['B_Gerant_Langue_Francais'] == 1)) | \\\n",
    "                         #((df['C_LangueClient'] == 'Nl') & (df['B_Gerant_Langue_Neerlandais'] == 1))\n",
    "\n",
    "df = df[df[\"O_524\"].notnull()]\n",
    "df = df[df[\"N_SATISFACTION_CLIENT_CUR\"].notnull()]\n",
    "df = df[df['O_523'].notnull()]\n",
    "\n",
    "df[\"N_Nb_Equipements\"] = df[\"B_HC_3\"] + df[\"B_HC_4\"] +  df[\"B_HC_5\"] + df[\"B_HC_6\"] + df[\"B_HC_7\"]+ df[\"B_HC_8\"] + df[\"B_HC_9\"] + df[\"B_HC_10\"] + df[\"B_HC_11\"] + df[\"B_HC_12\"] + df[\"B_HC_13\"] + df[\"B_HC_14\"] + df[\"B_HC_15\"] +  df[\"B_HC_16\"] + df[\"B_HC_17\"] + df[\"B_HC_18\"] + df[\"B_HC_19\"] + df[\"B_HC_20\"]  + df[\"B_HC_23\"] + df[\"B_HC_25\"] + df[\"B_HC_26\"] + df[\"B_HC_27\"] + df[\"B_HC_28\"] + df[\"B_HC_29\"] + df[\"B_HC_30\"] + df[\"B_HC_31\"] + df[\"B_HC_32\"] + df[\"B_HC_33\"] + df[\"B_HC_34\"] + df[\"B_HC_34\"] + df[\"B_HC_35\"] + df[\"B_HC_36\"] + df[\"B_HC_37\"] + df[\"B_HC_38\"] + df[\"B_HC_38\"] + df[\"B_HC_39\"] + df[\"B_HC_40\"] + df[\"B_HC_41\"] + df[\"B_HC_42\"] + df[\"B_HC_43\"] + df[\"B_HC_44\"] + df[\"B_HC_45\"]   + df[\"B_HC_49\"] + df[\"B_HC_50\"] + df[\"N_HC_51\"] + df[\"N_HC_52\"] + df[\"N_HC_53\"] + df[\"N_HC_54\"] + df[\"B_TV\"]\n",
    "\n",
    "tar = Targeter(target='O_523',data=df,categorical_variables=list(df.select_dtypes(include=[\"object\"]).columns),var_col=\"Nom colonne\", label_col=\"Description\",metadata=meta, exclude_vars= list(set(['C_CommunauteClient','B_521','D_debutsejour_month','D_DateInsertion_year','Centre_tri','D_DateReservation_month','D_DateInsertion_month','N_Confort','B_Gerant_Langue_Allemand','B_Gerant_Langue_Anglais','B_Gerant_Langue_Francais','B_Gerant_Langue_Neerlandais','O_523_to_class','I_IDLocation','Unnamed: 0','I_IDReservation','GeoPosX','N_Delais_Enquete','R_Maison_pct_enquete_repondu', 'N_Maison_Nombre_plainteClient', 'N_Maison_Enquete_repondu','N_Maison_Nombre_sejour','N_AgeMin', 'N_BookingWindow', 'D_debutsejour_year', 'D_DateReservation_year',\"B_HC_3\",\"B_HC_4\",\"B_HC_5\",\"B_HC_6\",\"B_HC_7\",\"B_HC_8\",\"B_HC_9\",\"B_HC_10\",\"B_HC_11\",\"B_HC_12\",\"B_HC_13\",\"B_HC_14\",\"B_HC_15\",\"B_HC_16\",\"B_HC_17\",\"B_HC_18\",\"B_HC_19\",\"B_HC_20\",\"B_HC_23\",\"B_HC_25\",\"B_HC_26\",\"B_HC_27\",\"B_HC_28\",\"B_HC_29\",\"B_HC_30\",\"B_HC_31\",\"B_HC_32\",\"B_HC_33\",\"B_HC_34\",\"B_HC_34\",\"B_HC_35\",\"B_HC_36\",\"B_HC_37\",\"B_HC_38\",\"B_HC_38\",\"B_HC_39\",\"B_HC_40\",\"B_HC_41\",\"B_HC_42\",\"B_HC_43\",\"B_HC_44\",\"B_HC_45\",\"B_HC_49\",\"B_HC_50\",\"N_HC_51\",\"N_HC_52\",\"N_HC_53\",\"N_HC_54\",\"B_TV\"] + list(meta[meta[\"Exclude \"]==\"x\"][\"Nom colonne\"].values))))\n",
    "#tar = Targeter(target=target,data=df,categorical_variables=list(df.select_dtypes(include=[\"object\"]).columns),var_col=\"Nom colonne\", label_col=\"newname\",metadata=meta, exclude_vars= ['O_374','N_Cote_actuelle','O_366','O_373','N_Confort','O_368','O_414','O_363','O_679','O_362','O_523','O_415','O_371','N_Cote_Actuelle','O_370','O_372','N_ConfortGap','O_367','O_524','O_365','O_369','B_532','B_521','B_HC_25','O_388','B_403','N_HC_53','O_393'])\n"
   ]
  },
  {
   "cell_type": "code",
   "execution_count": 10,
   "metadata": {},
   "outputs": [],
   "source": [
    "seed = 123"
   ]
  },
  {
   "cell_type": "code",
   "execution_count": 11,
   "metadata": {},
   "outputs": [
    {
     "data": {
      "text/plain": [
       "49"
      ]
     },
     "execution_count": 11,
     "metadata": {},
     "output_type": "execute_result"
    }
   ],
   "source": [
    "filter_count_min=500\n",
    "filter_n=30\n",
    "self = tar\n",
    "a1 = self.filter(n=filter_n, metric=\"quality_score\").selection\n",
    "if self.target_type == \"continuous\":\n",
    "        a2 = self.filter(n=filter_n, metric=\"Max Mean\", count_min=filter_count_min).selection\n",
    "        self.selection = list(set(a1 + a2))\n",
    "\n",
    "len(self.selection)"
   ]
  },
  {
   "cell_type": "code",
   "execution_count": 12,
   "metadata": {},
   "outputs": [
    {
     "data": {
      "text/plain": [
       "'.\\\\report.html'"
      ]
     },
     "execution_count": 12,
     "metadata": {},
     "output_type": "execute_result"
    }
   ],
   "source": [
    "self.report()"
   ]
  },
  {
   "cell_type": "code",
   "execution_count": 19,
   "metadata": {},
   "outputs": [
    {
     "data": {
      "text/html": [
       "<div>\n",
       "<style scoped>\n",
       "    .dataframe tbody tr th:only-of-type {\n",
       "        vertical-align: middle;\n",
       "    }\n",
       "\n",
       "    .dataframe tbody tr th {\n",
       "        vertical-align: top;\n",
       "    }\n",
       "\n",
       "    .dataframe thead th {\n",
       "        text-align: right;\n",
       "    }\n",
       "</style>\n",
       "<table border=\"1\" class=\"dataframe\">\n",
       "  <thead>\n",
       "    <tr style=\"text-align: right;\">\n",
       "      <th></th>\n",
       "      <th>name</th>\n",
       "      <th>dtype</th>\n",
       "      <th>status</th>\n",
       "      <th>selected</th>\n",
       "      <th>n_bins</th>\n",
       "      <th>woe</th>\n",
       "      <th>quality_score</th>\n",
       "      <th>Max ER - Bin</th>\n",
       "      <th>Max Mean</th>\n",
       "      <th>Max ER - Count</th>\n",
       "      <th>Selected</th>\n",
       "    </tr>\n",
       "  </thead>\n",
       "  <tbody>\n",
       "    <tr>\n",
       "      <th>61</th>\n",
       "      <td>N_Nb_Equipements</td>\n",
       "      <td>numerical</td>\n",
       "      <td>OPTIMAL</td>\n",
       "      <td>True</td>\n",
       "      <td>8</td>\n",
       "      <td>17.790308</td>\n",
       "      <td>0.009005</td>\n",
       "      <td>[15.50, inf)</td>\n",
       "      <td>8.681897</td>\n",
       "      <td>12169</td>\n",
       "      <td>x</td>\n",
       "    </tr>\n",
       "  </tbody>\n",
       "</table>\n",
       "</div>"
      ],
      "text/plain": [
       "                name      dtype   status  selected n_bins        woe  \\\n",
       "61  N_Nb_Equipements  numerical  OPTIMAL      True      8  17.790308   \n",
       "\n",
       "   quality_score  Max ER - Bin  Max Mean  Max ER - Count Selected  \n",
       "61      0.009005  [15.50, inf)  8.681897           12169        x  "
      ]
     },
     "execution_count": 19,
     "metadata": {},
     "output_type": "execute_result"
    }
   ],
   "source": [
    "self.summary()[self.summary()[\"name\"] == \"N_Nb_Equipements\"]"
   ]
  },
  {
   "cell_type": "code",
   "execution_count": 20,
   "metadata": {},
   "outputs": [],
   "source": [
    "one_hot_df = pd.get_dummies(df[self.selection],drop_first=True)\n",
    "one_hot_df = one_hot_df.fillna(one_hot_df.mean())"
   ]
  },
  {
   "cell_type": "code",
   "execution_count": 21,
   "metadata": {},
   "outputs": [],
   "source": [
    "Y = df[df[target].notnull()]['O_523'].values\n",
    "X1_train, X1_test, Y1_train, Y1_test = train_test_split(one_hot_df,Y, test_size=0.2, shuffle=True,random_state=seed)"
   ]
  },
  {
   "cell_type": "code",
   "execution_count": 22,
   "metadata": {},
   "outputs": [],
   "source": [
    "dt1 = tree.DecisionTreeRegressor(max_depth=6, min_samples_leaf=700, min_samples_split=2000,criterion=\"friedman_mse\",random_state=seed,ccp_alpha=0)"
   ]
  },
  {
   "cell_type": "code",
   "execution_count": 23,
   "metadata": {},
   "outputs": [],
   "source": [
    "dt1 = dt1.fit(X1_train,Y1_train)"
   ]
  },
  {
   "cell_type": "code",
   "execution_count": 24,
   "metadata": {},
   "outputs": [],
   "source": [
    "predictions_dt1 = dt1.predict(X1_test) "
   ]
  },
  {
   "cell_type": "code",
   "execution_count": 25,
   "metadata": {},
   "outputs": [
    {
     "data": {
      "text/plain": [
       "0.2277140309921324"
      ]
     },
     "execution_count": 25,
     "metadata": {},
     "output_type": "execute_result"
    }
   ],
   "source": [
    "r2_score(Y1_test,predictions_dt1)"
   ]
  }
 ],
 "metadata": {
  "kernelspec": {
   "display_name": ".venv",
   "language": "python",
   "name": "python3"
  },
  "language_info": {
   "codemirror_mode": {
    "name": "ipython",
    "version": 3
   },
   "file_extension": ".py",
   "mimetype": "text/x-python",
   "name": "python",
   "nbconvert_exporter": "python",
   "pygments_lexer": "ipython3",
   "version": "3.11.4"
  },
  "orig_nbformat": 4
 },
 "nbformat": 4,
 "nbformat_minor": 2
}
