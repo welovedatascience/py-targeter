{
  "cells": [
    {
      "cell_type": "raw",
      "metadata": {},
      "source": [
        "---\n",
        "title: Targeter analysis\n",
        "toc: true\n",
        "toc-depth: 2\n",
        "toc-title: Contents\n",
        "format:\n",
        "  html:\n",
        "    embed-resources: true\n",
        "    code-fold: false\n",
        "execute:\n",
        "  echo: false\n",
        "---"
      ],
      "id": "b811c1f6"
    },
    {
      "cell_type": "code",
      "metadata": {},
      "source": [
        "import papermill\n",
        "import targeter"
      ],
      "id": "7847467a",
      "execution_count": null,
      "outputs": []
    },
    {
      "cell_type": "code",
      "metadata": {
        "tags": [
          "parameters"
        ]
      },
      "source": [
        "tar_pickle_path = './targeter.pickle'"
      ],
      "id": "9e45b967",
      "execution_count": null,
      "outputs": []
    },
    {
      "cell_type": "code",
      "metadata": {},
      "source": [
        "import pickle\n",
        "file = open(tar_pickle_path, 'rb')\n",
        "tar = pickle.load(file)\n",
        "file.close()"
      ],
      "id": "c5fc0696",
      "execution_count": null,
      "outputs": []
    },
    {
      "cell_type": "markdown",
      "metadata": {},
      "source": [
        "\\newpage\n",
        "\n",
        "## Introduction\n",
        "\n",
        "This report contains a snapshot of the specific subpopulation **«`r label(object$target,metadata)` » == `r object$target_reference_level``**. \n",
        "\n",
        "This subpopulation is characterized by  performing bivariate analyses, crossing the variable of interest (target) with  potential explanatory variables. Only most relevant (highest discriminative power) may be retained.\n",
        "\n",
        "Report contains:\n",
        "\n",
        "*   A summary overview table with selected retained criteria with some available information such as one statistic called information value (IV) that provides an idea of the explanatory power of the criteria.\n",
        "*   Detailed analyses per criteria with graphics that highlight the reation between one of the candidate criteria and the _target_.\n",
        "\n",
        "It can happen that one criteria contains some missing values. If such, we will introduce value *\"[Missing]\"* in the report, eventually with a cross **[x]**. Also, if two few data are available, we would use a minus **[-]** instead of reporting value. \n",
        "\n",
        "### Summary table interpretation\n",
        "\n",
        "Criteria are sorted by decreasing importance order, which one is determined by the IV. \n",
        "One modality (value) index is also computed as the proportion of target «`r label(object$target,metadata)`» within the modality, that is the target penetration in the subpopulation selected by the specific modality of a criteria. A value near 1 would indicate a non-discriminative modality: selecting the corresponding subpopulation would result in the overall average target penetration. On the other way, the hightest the index (>1), the more target is over-representated in the subpopulation. Low index (<1) would be interpreted as under-representation. So high index modalities are of interest as they characterize subpopulation with high target penetration.\n",
        "\n",
        "Note that index will always be computed for segments (modalities): continuous variables are cut into buckets. If a criteria/variable has no segment with any high index, it will not be of interest at all. Also, having one segment with an index  greater than 1 implies that there are counterparts segments with index lower 1.\n",
        "\n",
        "There is no special rule to say that an index is a __good__ one as its interpretation has to take into account the natural (average) target pourcentage (penetration). Indeed, when the penetration is low, it is easier to observe eventually high index. Think that for a global penetration of 50% of target, maximal index is 2 (and more generally, index is bounded by `1/(target penetration)`)\n",
        "\n",
        "For this report, we selected a maximum of  `r ntop` potential criteria.\n",
        "\n",
        "For every criteria, summary table presents its possible value (modality) having the highest index along with the corresponding number of records. Pay attention that you might observe high index dealing with very restrictive sub-populations.\n",
        "\n",
        "## Population description\n",
        "\n",
        "\n",
        "\n",
        "## Target description\n",
        "Target analysis :"
      ],
      "id": "bfbe11f0"
    },
    {
      "cell_type": "code",
      "metadata": {},
      "source": [
        "tar.target_stats"
      ],
      "id": "23d9529d",
      "execution_count": null,
      "outputs": []
    },
    {
      "cell_type": "markdown",
      "metadata": {},
      "source": [
        "## Summary view\n"
      ],
      "id": "d1465226"
    },
    {
      "cell_type": "code",
      "metadata": {},
      "source": [
        "tar.summary()"
      ],
      "id": "7e9d2025",
      "execution_count": null,
      "outputs": []
    },
    {
      "cell_type": "markdown",
      "metadata": {},
      "source": [
        "## Variables\n"
      ],
      "id": "e7d47694"
    },
    {
      "cell_type": "code",
      "metadata": {},
      "source": [
        "def format_df(df):\n",
        "    \"\"\"format the dataframe for display without index\"\"\"\n",
        "    return display(HTML(df.to_html(index=False)))\n",
        "\n",
        "# loop over variables\n",
        "for ivar in list(tar.profiles.variable_names):\n",
        "  # display title+anchor for links\n",
        "  from IPython.display import display, Markdown\n",
        "  display(Markdown(f\"\"\"\n",
        "  ### {ivar} \n",
        "  \n",
        "  \"\"\"))\n",
        "  vars =['Bin','Count', 'Count (%)', 'Event rate','WoE']\n",
        "  format_df(tar.get_table(ivar)[vars])\n",
        "  # plot\n",
        "  tar.plot(ivar)\n"
      ],
      "id": "be1a2b9a",
      "execution_count": null,
      "outputs": []
    }
  ],
  "metadata": {
    "kernelspec": {
      "name": "python3",
      "language": "python",
      "display_name": "Python 3 (ipykernel)"
    }
  },
  "nbformat": 4,
  "nbformat_minor": 5
}