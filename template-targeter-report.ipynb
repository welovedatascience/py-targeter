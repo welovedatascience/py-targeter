{
  "cells": [
    {
      "cell_type": "raw",
      "metadata": {},
      "source": [
        "---\n",
        "title: \"Targeter analysis\"\n",
        "toc: true\n",
        "toc-depth: 2\n",
        "toc-location: body\n",
        "toc-title: Contents\n",
        "format:\n",
        "  html:\n",
        "    theme:\n",
        "    - cosmo\n",
        "    - targeter.scss\n",
        "    page-layout: full\n",
        "    embed-resources: true\n",
        "    standalone: true\n",
        "execute:\n",
        "  echo: false # hides code by default\n",
        "  eval: true\n",
        "  warning: false\n",
        "---"
      ],
      "id": "983163d1"
    },
    {
      "cell_type": "code",
      "metadata": {},
      "source": [
        "#| eval: true\n"
      ],
      "id": "9aff4890",
      "execution_count": null,
      "outputs": []
    },
    {
      "cell_type": "code",
      "metadata": {},
      "source": [
        "import papermill"
      ],
      "id": "c03ef6a9",
      "execution_count": null,
      "outputs": []
    },
    {
      "cell_type": "code",
      "metadata": {
        "tags": [
          "parameters"
        ]
      },
      "source": [
        "tmpdir = '.'"
      ],
      "id": "02f86eab",
      "execution_count": null,
      "outputs": []
    },
    {
      "cell_type": "code",
      "metadata": {},
      "source": [
        "from IPython.display import display, HTML\n",
        "from itables import init_notebook_mode, show\n",
        "import os\n",
        "init_notebook_mode(all_interactive=False)\n",
        "# tmpdir = os.environ['TARGETER_TMPDIR']\n",
        "\n",
        "exec(open(os.path.join(tmpdir, 'targeter.py')).read())\n",
        "print(tmpdir)\n",
        "tar_pickle_path = os.path.join(tmpdir, 'targeter.pickle')\n",
        "\n",
        "\n",
        "import pickle\n",
        "file = open(tar_pickle_path, 'rb')\n",
        "tar = pickle.load(file)\n",
        "file.close()"
      ],
      "id": "f2e9a28f",
      "execution_count": null,
      "outputs": []
    },
    {
      "cell_type": "markdown",
      "metadata": {},
      "source": [
        "\\newpage\n",
        "\n",
        "## Introduction\n",
        "\n",
        "This report contains a snapshot of the specific subpopulation **«`r label(object$target,metadata)` » == `r object$target_reference_level``**. \n",
        "\n",
        "This subpopulation is characterized by  performing bivariate analyses, crossing the variable of interest (target) with  potential explanatory variables. Only most relevant (highest discriminative power) may be retained.\n",
        "\n",
        "Report contains:\n",
        "\n",
        "*   A summary overview table with selected retained criteria with some available information such as one statistic called information value (IV) that provides an idea of the explanatory power of the criteria.\n",
        "*   Detailed analyses per criteria with graphics that highlight the reation between one of the candidate criteria and the _target_.\n",
        "\n",
        "It can happen that one criteria contains some missing values. If such, we will introduce value *\"[Missing]\"* in the report, eventually with a cross **[x]**. Also, if two few data are available, we would use a minus **[-]** instead of reporting value. \n",
        "\n",
        "### Summary table interpretation\n",
        "\n",
        "Criteria are sorted by decreasing importance order, which one is determined by the IV. \n",
        "One modality (value) index is also computed as the proportion of target «`r label(object$target,metadata)`» within the modality, that is the target penetration in the subpopulation selected by the specific modality of a criteria. A value near 1 would indicate a non-discriminative modality: selecting the corresponding subpopulation would result in the overall average target penetration. On the other way, the hightest the index (>1), the more target is over-representated in the subpopulation. Low index (<1) would be interpreted as under-representation. So high index modalities are of interest as they characterize subpopulation with high target penetration.\n",
        "\n",
        "Note that index will always be computed for segments (modalities): continuous variables are cut into buckets. If a criteria/variable has no segment with any high index, it will not be of interest at all. Also, having one segment with an index  greater than 1 implies that there are counterparts segments with index lower 1.\n",
        "\n",
        "There is no special rule to say that an index is a __good__ one as its interpretation has to take into account the natural (average) target pourcentage (penetration). Indeed, when the penetration is low, it is easier to observe eventually high index. Think that for a global penetration of 50% of target, maximal index is 2 (and more generally, index is bounded by `1/(target penetration)`)\n",
        "\n",
        "For this report, we selected a maximum of  `r ntop` potential criteria.\n",
        "\n",
        "For every criteria, summary table presents its possible value (modality) having the highest index along with the corresponding number of records. Pay attention that you might observe high index dealing with very restrictive sub-populations.\n",
        "\n",
        "## Population description\n",
        "\n",
        "\n",
        "\n",
        "## Target description\n",
        "Target analysis :"
      ],
      "id": "ed967ab5"
    },
    {
      "cell_type": "code",
      "metadata": {},
      "source": [
        "tar.target_stats"
      ],
      "id": "87a539fc",
      "execution_count": null,
      "outputs": []
    },
    {
      "cell_type": "markdown",
      "metadata": {},
      "source": [
        "## Summary view\n"
      ],
      "id": "0190eea4"
    },
    {
      "cell_type": "code",
      "metadata": {},
      "source": [
        "tab_sum = tar.summary()\n",
        "\n",
        "tab_sum.rename(columns={ 'quality_score':'qs','Max ER - Bin': 'Max bin','Max Event Rate':'MaxBin Rate','Max ER - Count':'MaxBin N'}, inplace = True)\n",
        "\n",
        "tab_sum.sort_values(by=['qs'], ascending = False)\n",
        "\n",
        "vars = ['name','n_bins','iv','qs','Max bin','MaxBin Rate','MaxBin N']\n",
        "\n",
        "tab_sum = tab_sum[vars]\n",
        "\n",
        "tab_sum = tab_sum.astype({'iv': float, 'qs': float}) # https://dev.to/theolakusibe/solving-attributeerror-float-object-has-no-attribute-rint-4la#:~:text=Solution%20To%20convert%20the%20column%20with%20a%20mixed,by%20using%20the%20pandas.DataFrame.astype%20function%2C%20as%20illustrated%20below\n",
        "\n",
        "tab_sum['iv'] = tab_sum['iv'].round(3)\n",
        "\n",
        "tab_sum['qs'] = tab_sum['qs'].round(3)\n",
        "\n",
        "\n",
        "\n",
        "\n",
        "\n",
        "# add hyperlinks -- # df2$variable <- paste0(\"<a href='#var-\",tolower(df2$variable),\"'>\",df2$variable,\"</a>\")\n",
        "\n",
        "tab_sum['name']= tab_sum['name'].map(lambda cell: \"<a href='#var-\" + cell.lower() +\"'>\"+cell+\"</a>\")\n",
        "\n",
        "tab_sum['MaxBin Rate'] = tab_sum['MaxBin Rate'].round(3)\n",
        "\n",
        "\n",
        "\n",
        "\n",
        "# wrap text https://stackoverflow.com/questions/63286431/datatables-js-not-wrapping-cell-text#:~:text=You%20can%20try%20creating%20a%20class%20and%20then,data%20%2B%20%22%3C%2Fdiv%3E%22%3B%20%7D%2C%20targets%3A%202%20%7D%20%5D\n",
        "\n",
        "#<IDEA> extend itables python package to add advanced search functionality\n",
        "\n",
        "tab_sum['Max bin'] = tab_sum['Max bin'].map(lambda cell: '<div style=\"white-space: normal;\">'+cell+\"<div>\")\n"
      ],
      "id": "9846a475",
      "execution_count": null,
      "outputs": []
    },
    {
      "cell_type": "markdown",
      "metadata": {},
      "source": [
        "<!--https://quarto.org/docs/authoring/conditional.html-->\n",
        "\n",
        "::: {.content-visible when-format=\"html\"}\n"
      ],
      "id": "5052f87d"
    },
    {
      "cell_type": "code",
      "metadata": {},
      "source": [
        "# Will only appear in HTML.\n",
        "\n",
        "show(tab_sum, paging = False, info = False, style = \"width:100%;margin:auto\")"
      ],
      "id": "183e4d8b",
      "execution_count": null,
      "outputs": []
    },
    {
      "cell_type": "markdown",
      "metadata": {},
      "source": [
        ":::\n",
        "\n",
        "\n",
        "\n",
        "\n",
        "\n",
        "\n",
        "::: {.content-visible unless-format=\"html\"}\n"
      ],
      "id": "a2c117c7"
    },
    {
      "cell_type": "code",
      "metadata": {},
      "source": [
        "# Will only appear in HTML.\n",
        "\n",
        "tab_sum"
      ],
      "id": "bdc58d8c",
      "execution_count": null,
      "outputs": []
    },
    {
      "cell_type": "markdown",
      "metadata": {},
      "source": [
        ":::\n",
        "\n",
        "\n",
        "## Variables\n"
      ],
      "id": "2d4219a8"
    },
    {
      "cell_type": "code",
      "metadata": {},
      "source": [
        "#| output: asis\n",
        "\n",
        "import matplotlib.pyplot as pyplot\n",
        "from adjustText import adjust_text\n",
        "\n",
        "\n",
        "def label(var, metadata = None):\n",
        "  if metadata is None:\n",
        "    return(var)\n",
        "metadata = None\n",
        "\n",
        "def format_df(df, index = True):\n",
        "    \"\"\"format the dataframe for display\"\"\"\n",
        "    return display(HTML(df.to_html(index=index)))\n",
        "\n",
        "# loop over variables\n",
        "for ivar in list(tar.profiles.variable_names):\n",
        "  # display title+anchor for links\n",
        "\n",
        "  ivar_label = label(ivar, metadata)\n",
        "  itxt = \"<div id='var-\" + ivar.lower() + \"'>\\n\\n## \" + ivar_label\n",
        "\n",
        "  if (ivar_label != ivar):\n",
        "    itxt = itxt + \"(\" + ivar + \")\"\n",
        "  itxt = itxt + \"\\n</div>\"\n",
        "\n",
        "  from IPython.display import display, Markdown\n",
        "  display(Markdown(f\"\"\"{itxt}\"\"\"))\n",
        "\n",
        "#https://stackoverflow.com/questions/74162212/two-columns-layout-in-quarto\n",
        "# https://quarto.org/docs/authoring/figures.html\n",
        "\n",
        "  display(Markdown(\"\\n\\n::: {<layout='[[45,-10,45],[100]]'}\\n\\n\"))\n",
        "\n",
        "  tar.plot(ivar)\n",
        "\n",
        "  tar.quadrant_plot(ivar)\n",
        "\n",
        "  vars =['Bin','Count', 'Count (%)', 'Event rate','WoE']\n",
        "  format_df(tar.get_table(ivar)[vars])\n",
        "\n",
        "  display(Markdown(\"\\n\\n:::\\n\\n\"))"
      ],
      "id": "3fed6517",
      "execution_count": null,
      "outputs": []
    }
  ],
  "metadata": {
    "kernelspec": {
      "name": "python3",
      "language": "python",
      "display_name": "Python 3 (ipykernel)"
    }
  },
  "nbformat": 4,
  "nbformat_minor": 5
}